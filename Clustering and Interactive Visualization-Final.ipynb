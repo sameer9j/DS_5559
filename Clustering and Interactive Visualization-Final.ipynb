{
 "cells": [
  {
   "cell_type": "markdown",
   "metadata": {},
   "source": [
    "### This notebook showcases our analysis of the blogposts using clustering techniques.  We also included an interactive visualization tool, where the user specifies the number of clusters it wants to use for the k means algorithm, and the function plots the distribution of clusters by gender"
   ]
  },
  {
   "cell_type": "code",
   "execution_count": 47,
   "metadata": {},
   "outputs": [],
   "source": [
    "import scipy.cluster.hierarchy as sch\n",
    "from sklearn.cluster import AgglomerativeClustering\n",
    "import pandas as pd\n",
    "from sklearn.feature_extraction.text import TfidfVectorizer\n",
    "import matplotlib.pyplot as plt\n",
    "from nltk.cluster import KMeansClusterer\n",
    "import nltk\n",
    "from sklearn.metrics.pairwise import cosine_similarity\n"
   ]
  },
  {
   "cell_type": "markdown",
   "metadata": {},
   "source": [
    "### Clustering with blogs by same author separate"
   ]
  },
  {
   "cell_type": "code",
   "execution_count": 125,
   "metadata": {},
   "outputs": [],
   "source": [
    "db = pd.read_csv('sample3.csv')"
   ]
  },
  {
   "cell_type": "code",
   "execution_count": 5,
   "metadata": {},
   "outputs": [
    {
     "data": {
      "text/html": [
       "<div>\n",
       "<style scoped>\n",
       "    .dataframe tbody tr th:only-of-type {\n",
       "        vertical-align: middle;\n",
       "    }\n",
       "\n",
       "    .dataframe tbody tr th {\n",
       "        vertical-align: top;\n",
       "    }\n",
       "\n",
       "    .dataframe thead th {\n",
       "        text-align: right;\n",
       "    }\n",
       "</style>\n",
       "<table border=\"1\" class=\"dataframe\">\n",
       "  <thead>\n",
       "    <tr style=\"text-align: right;\">\n",
       "      <th></th>\n",
       "      <th>chap_num</th>\n",
       "      <th>para_num</th>\n",
       "      <th>sent_num</th>\n",
       "      <th>token_num</th>\n",
       "      <th>pos</th>\n",
       "      <th>token_str</th>\n",
       "      <th>punc</th>\n",
       "      <th>num</th>\n",
       "      <th>gender</th>\n",
       "      <th>topic</th>\n",
       "      <th>id</th>\n",
       "    </tr>\n",
       "  </thead>\n",
       "  <tbody>\n",
       "    <tr>\n",
       "      <th>0</th>\n",
       "      <td>141</td>\n",
       "      <td>0</td>\n",
       "      <td>0</td>\n",
       "      <td>0</td>\n",
       "      <td>WDT</td>\n",
       "      <td>whatever</td>\n",
       "      <td>0</td>\n",
       "      <td>0</td>\n",
       "      <td>male</td>\n",
       "      <td>Non-Profit</td>\n",
       "      <td>3705830</td>\n",
       "    </tr>\n",
       "    <tr>\n",
       "      <th>1</th>\n",
       "      <td>141</td>\n",
       "      <td>0</td>\n",
       "      <td>0</td>\n",
       "      <td>1</td>\n",
       "      <td>PRP</td>\n",
       "      <td>it</td>\n",
       "      <td>0</td>\n",
       "      <td>0</td>\n",
       "      <td>male</td>\n",
       "      <td>Non-Profit</td>\n",
       "      <td>3705830</td>\n",
       "    </tr>\n",
       "    <tr>\n",
       "      <th>2</th>\n",
       "      <td>141</td>\n",
       "      <td>0</td>\n",
       "      <td>0</td>\n",
       "      <td>2</td>\n",
       "      <td>VBZ</td>\n",
       "      <td>is</td>\n",
       "      <td>0</td>\n",
       "      <td>0</td>\n",
       "      <td>male</td>\n",
       "      <td>Non-Profit</td>\n",
       "      <td>3705830</td>\n",
       "    </tr>\n",
       "    <tr>\n",
       "      <th>3</th>\n",
       "      <td>141</td>\n",
       "      <td>0</td>\n",
       "      <td>0</td>\n",
       "      <td>3</td>\n",
       "      <td>PRP</td>\n",
       "      <td>they</td>\n",
       "      <td>0</td>\n",
       "      <td>0</td>\n",
       "      <td>male</td>\n",
       "      <td>Non-Profit</td>\n",
       "      <td>3705830</td>\n",
       "    </tr>\n",
       "    <tr>\n",
       "      <th>4</th>\n",
       "      <td>141</td>\n",
       "      <td>0</td>\n",
       "      <td>0</td>\n",
       "      <td>4</td>\n",
       "      <td>VBD</td>\n",
       "      <td>put</td>\n",
       "      <td>0</td>\n",
       "      <td>0</td>\n",
       "      <td>male</td>\n",
       "      <td>Non-Profit</td>\n",
       "      <td>3705830</td>\n",
       "    </tr>\n",
       "  </tbody>\n",
       "</table>\n",
       "</div>"
      ],
      "text/plain": [
       "   chap_num  para_num  sent_num  token_num  pos token_str  punc  num gender  \\\n",
       "0       141         0         0          0  WDT  whatever     0    0   male   \n",
       "1       141         0         0          1  PRP        it     0    0   male   \n",
       "2       141         0         0          2  VBZ        is     0    0   male   \n",
       "3       141         0         0          3  PRP      they     0    0   male   \n",
       "4       141         0         0          4  VBD       put     0    0   male   \n",
       "\n",
       "        topic       id  \n",
       "0  Non-Profit  3705830  \n",
       "1  Non-Profit  3705830  \n",
       "2  Non-Profit  3705830  \n",
       "3  Non-Profit  3705830  \n",
       "4  Non-Profit  3705830  "
      ]
     },
     "execution_count": 5,
     "metadata": {},
     "output_type": "execute_result"
    }
   ],
   "source": [
    "db.head()"
   ]
  },
  {
   "cell_type": "code",
   "execution_count": 14,
   "metadata": {},
   "outputs": [
    {
     "name": "stdout",
     "output_type": "stream",
     "text": [
      "10000\n"
     ]
    },
    {
     "data": {
      "text/html": [
       "<div>\n",
       "<style scoped>\n",
       "    .dataframe tbody tr th:only-of-type {\n",
       "        vertical-align: middle;\n",
       "    }\n",
       "\n",
       "    .dataframe tbody tr th {\n",
       "        vertical-align: top;\n",
       "    }\n",
       "\n",
       "    .dataframe thead th {\n",
       "        text-align: right;\n",
       "    }\n",
       "</style>\n",
       "<table border=\"1\" class=\"dataframe\">\n",
       "  <thead>\n",
       "    <tr style=\"text-align: right;\">\n",
       "      <th></th>\n",
       "      <th>text</th>\n",
       "      <th>chap_num</th>\n",
       "      <th>gender</th>\n",
       "      <th>id</th>\n",
       "    </tr>\n",
       "  </thead>\n",
       "  <tbody>\n",
       "    <tr>\n",
       "      <th>1204097</th>\n",
       "      <td>O= optimist P= pessimist My argument with myse...</td>\n",
       "      <td>74</td>\n",
       "      <td>female</td>\n",
       "      <td>3539003</td>\n",
       "    </tr>\n",
       "    <tr>\n",
       "      <th>0</th>\n",
       "      <td>whatever it is they put into freeze pops to ma...</td>\n",
       "      <td>141</td>\n",
       "      <td>male</td>\n",
       "      <td>3705830</td>\n",
       "    </tr>\n",
       "    <tr>\n",
       "      <th>215</th>\n",
       "      <td>&amp; nbsp ; in my head , and in response to an em...</td>\n",
       "      <td>145</td>\n",
       "      <td>male</td>\n",
       "      <td>3705830</td>\n",
       "    </tr>\n",
       "    <tr>\n",
       "      <th>911</th>\n",
       "      <td>Friends are like ships Anchored their lines by...</td>\n",
       "      <td>220</td>\n",
       "      <td>male</td>\n",
       "      <td>3429420</td>\n",
       "    </tr>\n",
       "    <tr>\n",
       "      <th>958</th>\n",
       "      <td>There have been times in my life when I have f...</td>\n",
       "      <td>226</td>\n",
       "      <td>male</td>\n",
       "      <td>3429420</td>\n",
       "    </tr>\n",
       "  </tbody>\n",
       "</table>\n",
       "</div>"
      ],
      "text/plain": [
       "                                                      text  chap_num  gender  \\\n",
       "1204097  O= optimist P= pessimist My argument with myse...        74  female   \n",
       "0        whatever it is they put into freeze pops to ma...       141    male   \n",
       "215      & nbsp ; in my head , and in response to an em...       145    male   \n",
       "911      Friends are like ships Anchored their lines by...       220    male   \n",
       "958      There have been times in my life when I have f...       226    male   \n",
       "\n",
       "              id  \n",
       "1204097  3539003  \n",
       "0        3705830  \n",
       "215      3705830  \n",
       "911      3429420  \n",
       "958      3429420  "
      ]
     },
     "execution_count": 14,
     "metadata": {},
     "output_type": "execute_result"
    }
   ],
   "source": [
    "#create dfidf for feature representation\n",
    "\n",
    "#retaining labels\n",
    "db_mapping = db[['chap_num','gender','id']].copy()\n",
    "db_mapping.drop_duplicates(inplace=True)\n",
    "print(len(db_mapping))\n",
    "db_mapping.head()\n",
    "\n",
    "#Aggregating corpus\n",
    "db.token_str = db.token_str.astype('str')\n",
    "cdb = db.groupby('chap_num')\\\n",
    "    .apply(lambda x: ' '.join(x.token_str))\\\n",
    "    .to_frame()\\\n",
    "    .rename(columns={0:'text'})\n",
    "cdb.head()\n",
    "\n",
    "#Merginig db\n",
    "dbm = pd.merge(cdb,db_mapping,left_index=True,right_on='chap_num')\n",
    "\n",
    "#TFIDF\n",
    "vect = TfidfVectorizer(min_df=0.005,lowercase=True,stop_words='english',norm='l1',ngram_range=(1,2),max_features=1500).fit(dbm['text'])\n",
    "X_train_word = vect.transform(dbm['text'])\n",
    "\n",
    "dbm.head()"
   ]
  },
  {
   "cell_type": "code",
   "execution_count": 23,
   "metadata": {},
   "outputs": [],
   "source": [
    "tfidf = X_train_word.toarray()"
   ]
  },
  {
   "cell_type": "code",
   "execution_count": null,
   "metadata": {},
   "outputs": [],
   "source": [
    "NUM_CLUSTERS=4\n",
    "kclusterer = KMeansClusterer(NUM_CLUSTERS, distance=nltk.cluster.util.cosine_distance, repeats=25)\n",
    "assigned_clusters = kclusterer.cluster(tfidf, assign_clusters=True)"
   ]
  },
  {
   "cell_type": "code",
   "execution_count": null,
   "metadata": {},
   "outputs": [],
   "source": [
    "from sklearn.preprocessing import LabelEncoder, OneHotEncoder\n",
    "labelencoder_X_1 = LabelEncoder()\n",
    "dbm['gender_ohe'] = labelencoder_X_1.fit_transform(dbm.loc[:,'gender'])"
   ]
  },
  {
   "cell_type": "code",
   "execution_count": null,
   "metadata": {},
   "outputs": [],
   "source": [
    "sum(dbm['gender_ohe']!=assigned_clusters)"
   ]
  },
  {
   "cell_type": "code",
   "execution_count": null,
   "metadata": {},
   "outputs": [],
   "source": [
    "dbm['gender_ohe'].value_counts()"
   ]
  },
  {
   "cell_type": "code",
   "execution_count": 112,
   "metadata": {},
   "outputs": [],
   "source": [
    "assigned_clusters = pd.DataFrame(assigned_clusters)"
   ]
  },
  {
   "cell_type": "code",
   "execution_count": 113,
   "metadata": {},
   "outputs": [],
   "source": [
    "dbm2 = dbm.reset_index()"
   ]
  },
  {
   "cell_type": "code",
   "execution_count": 114,
   "metadata": {},
   "outputs": [],
   "source": [
    "assigned_clusters['gender'] = dbm2['gender']"
   ]
  },
  {
   "cell_type": "code",
   "execution_count": 115,
   "metadata": {},
   "outputs": [],
   "source": [
    "female = assigned_clusters[assigned_clusters['gender'] == 'female']\n",
    "male = assigned_clusters[assigned_clusters['gender'] == 'male']"
   ]
  },
  {
   "cell_type": "code",
   "execution_count": 116,
   "metadata": {},
   "outputs": [
    {
     "data": {
      "text/plain": [
       "3    2107\n",
       "2    1872\n",
       "0     735\n",
       "1     286\n",
       "Name: 0, dtype: int64"
      ]
     },
     "execution_count": 116,
     "metadata": {},
     "output_type": "execute_result"
    }
   ],
   "source": [
    "female[0].value_counts()"
   ]
  },
  {
   "cell_type": "code",
   "execution_count": 117,
   "metadata": {},
   "outputs": [
    {
     "data": {
      "text/plain": [
       "2    1971\n",
       "3    1929\n",
       "0     942\n",
       "1     158\n",
       "Name: 0, dtype: int64"
      ]
     },
     "execution_count": 117,
     "metadata": {},
     "output_type": "execute_result"
    }
   ],
   "source": [
    "male[0].value_counts()"
   ]
  },
  {
   "cell_type": "markdown",
   "metadata": {},
   "source": [
    "Conclusion:  There is some small differentiation by gender but it is difficult to tell if it is real or noise"
   ]
  },
  {
   "cell_type": "markdown",
   "metadata": {},
   "source": [
    "### clusters after concatenating posts by same author"
   ]
  },
  {
   "cell_type": "code",
   "execution_count": 157,
   "metadata": {},
   "outputs": [],
   "source": [
    "db = pd.read_csv('sampleorig.csv')\n",
    "\n",
    "db = db[['gender','text','id']]\n",
    "\n",
    "dbm = db.groupby(['gender','id'])\\\n",
    "    .apply(lambda x: ' '.join(x.text))\\\n",
    "    .to_frame()\\\n",
    "    .rename(columns={0:'text'})\n",
    "dbm.reset_index(inplace=True)\n",
    "dbm.head()\n",
    "\n",
    "dbm.text = dbm.text.str.replace('urllink',\" \")\n",
    "dbm.text = dbm.text.str.replace('nbsp',\" \")"
   ]
  },
  {
   "cell_type": "code",
   "execution_count": 158,
   "metadata": {},
   "outputs": [],
   "source": [
    "#TFIDF\n",
    "vect = TfidfVectorizer(min_df=0.005,lowercase=True,stop_words='english',norm='l1',ngram_range=(1,2),max_features=1500).fit(dbm['text'])\n",
    "X_train_word = vect.transform(dbm['text'])"
   ]
  },
  {
   "cell_type": "code",
   "execution_count": 159,
   "metadata": {},
   "outputs": [],
   "source": [
    "tfidf = X_train_word.toarray()"
   ]
  },
  {
   "cell_type": "code",
   "execution_count": 170,
   "metadata": {},
   "outputs": [],
   "source": [
    "NUM_CLUSTERS=2\n",
    "kclusterer = KMeansClusterer(NUM_CLUSTERS, distance=nltk.cluster.util.cosine_distance, repeats=25)\n",
    "assigned_clusters = kclusterer.cluster(tfidf, assign_clusters=True)"
   ]
  },
  {
   "cell_type": "code",
   "execution_count": 171,
   "metadata": {},
   "outputs": [],
   "source": [
    "assigned_clusters = pd.DataFrame(assigned_clusters)\n",
    "dbm2 = dbm.reset_index()\n",
    "assigned_clusters['gender'] = dbm2['gender']\n",
    "female = assigned_clusters[assigned_clusters['gender'] == 'female']\n",
    "male = assigned_clusters[assigned_clusters['gender'] == 'male']"
   ]
  },
  {
   "cell_type": "code",
   "execution_count": 172,
   "metadata": {},
   "outputs": [
    {
     "data": {
      "text/plain": [
       "1    1653\n",
       "0     219\n",
       "Name: 0, dtype: int64"
      ]
     },
     "execution_count": 172,
     "metadata": {},
     "output_type": "execute_result"
    }
   ],
   "source": [
    "female[0].value_counts()"
   ]
  },
  {
   "cell_type": "code",
   "execution_count": 173,
   "metadata": {},
   "outputs": [
    {
     "data": {
      "text/plain": [
       "1    1511\n",
       "0     329\n",
       "Name: 0, dtype: int64"
      ]
     },
     "execution_count": 173,
     "metadata": {},
     "output_type": "execute_result"
    }
   ],
   "source": [
    "male[0].value_counts()"
   ]
  },
  {
   "cell_type": "markdown",
   "metadata": {},
   "source": [
    "Conclusion: There is a bit more differentiation seen here, with more male in cluster 0 and more female in cluster 1.  Still lots of noise"
   ]
  },
  {
   "cell_type": "markdown",
   "metadata": {},
   "source": [
    "# Interactive Function(K means Clustering)"
   ]
  },
  {
   "cell_type": "code",
   "execution_count": 3,
   "metadata": {},
   "outputs": [],
   "source": [
    "import scipy.cluster.hierarchy as sch\n",
    "from sklearn.cluster import AgglomerativeClustering\n",
    "import pandas as pd\n",
    "from sklearn.feature_extraction.text import TfidfVectorizer\n",
    "import matplotlib.pyplot as plt\n",
    "from nltk.cluster import KMeansClusterer\n",
    "import nltk\n",
    "from sklearn.metrics.pairwise import cosine_similarity\n",
    "import numpy as np\n",
    "\n",
    "\n",
    "db = pd.read_csv('sampleorig.csv')\n",
    "\n",
    "db = db[['gender','text','id']]\n",
    "\n",
    "dbm = db.groupby(['gender','id'])\\\n",
    "    .apply(lambda x: ' '.join(x.text))\\\n",
    "    .to_frame()\\\n",
    "    .rename(columns={0:'text'})\n",
    "dbm.reset_index(inplace=True)\n",
    "dbm.head()\n",
    "\n",
    "dbm.text = dbm.text.str.replace('urllink',\" \")\n",
    "dbm.text = dbm.text.str.replace('nbsp',\" \")\n",
    "\n",
    "vect = TfidfVectorizer(min_df=0.005,lowercase=True,stop_words='english',norm='l1',ngram_range=(1,2),max_features=1500).fit(dbm['text'])\n",
    "X_train_word = vect.transform(dbm['text'])\n",
    "\n",
    "tfidf = X_train_word.toarray()\n",
    "\n",
    "\n",
    "#assumes tfidf is already created\n",
    "#also assumes dbm object available with values for gender\n",
    "\n",
    "#occassionally, throws assertion error, rerunning should solve the issue\n",
    "def plotclusters(numclust):\n",
    "    import warnings\n",
    "    warnings.filterwarnings('ignore')\n",
    "    #create clusters\n",
    "    NUM_CLUSTERS=numclust\n",
    "    kclusterer = KMeansClusterer(NUM_CLUSTERS, distance=nltk.cluster.util.cosine_distance, repeats=25)\n",
    "    assigned_clusters = kclusterer.cluster(tfidf, assign_clusters=True)\n",
    "    \n",
    "    #add gender values to cluster df\n",
    "    assigned_clusters = pd.DataFrame(assigned_clusters)\n",
    "    dbm2 = dbm.reset_index()\n",
    "    assigned_clusters['gender'] = dbm2['gender']\n",
    "    \n",
    "    #create counts for num of each gender in diff clusters\n",
    "    female = assigned_clusters[assigned_clusters['gender'] == 'female']\n",
    "    male = assigned_clusters[assigned_clusters['gender'] == 'male']\n",
    "    fplot = female[0].value_counts()\n",
    "    fplot = fplot.sort_index()\n",
    "    mplot = male[0].value_counts()\n",
    "    mplot = mplot.sort_index()\n",
    "    flist = fplot.tolist()\n",
    "    mlist = mplot.tolist()\n",
    "    \n",
    "    #plot\n",
    "    N = numclust\n",
    "    men_means = mlist\n",
    "\n",
    "\n",
    "    ind = np.arange(N)  \n",
    "    width = 0.35       \n",
    "\n",
    "    fig, ax = plt.subplots()\n",
    "    rects1 = ax.bar(ind, men_means, width, color='b')\n",
    "\n",
    "    women_means = flist\n",
    "\n",
    "    rects2 = ax.bar(ind + width, women_means, width, color='g')\n",
    "\n",
    "    # add some text for labels, title and axes ticks\n",
    "    ax.set_ylabel('Num Authors')\n",
    "    ax.set_title('Clusters by gender')\n",
    "    ax.set_xticks(ind + width / 2)\n",
    "    numlist = [str(x) for x in range(numclust)]\n",
    "    ax.set_xticklabels(numlist)\n",
    "\n",
    "    ax.legend((rects1[0], rects2[0]), ('Male', 'Female'))\n",
    "\n",
    "    plt.show()"
   ]
  },
  {
   "cell_type": "code",
   "execution_count": 4,
   "metadata": {},
   "outputs": [
    {
     "data": {
      "image/png": "[encoded data removed]",
      "text/plain": [
       "<Figure size 432x288 with 1 Axes>"
      ]
     },
     "metadata": {
      "needs_background": "light"
     },
     "output_type": "display_data"
    }
   ],
   "source": [
    "# To use the tool, change number_clusters to the number of clusters you want.  \n",
    "# The function may take a minute to run so be patient\n",
    "# It also requires that the previous cell is run first\n",
    "# Sometimes the clustering package throws an assert error.  Just rerun the function if it happens.\n",
    "\n",
    "number_clusters = 4\n",
    "\n",
    "plotclusters(number_clusters)"
   ]
  },
  {
   "cell_type": "code",
   "execution_count": null,
   "metadata": {},
   "outputs": [],
   "source": []
  }
 ],
 "metadata": {
  "kernelspec": {
   "display_name": "Python 3",
   "language": "python",
   "name": "python3"
  },
  "language_info": {
   "codemirror_mode": {
    "name": "ipython",
    "version": 3
   },
   "file_extension": ".py",
   "mimetype": "text/x-python",
   "name": "python",
   "nbconvert_exporter": "python",
   "pygments_lexer": "ipython3",
   "version": "3.7.3"
  }
 },
 "nbformat": 4,
 "nbformat_minor": 2
}
