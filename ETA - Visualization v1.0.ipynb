{
 "cells": [
  {
   "cell_type": "code",
   "execution_count": 1,
   "metadata": {},
   "outputs": [
    {
     "name": "stderr",
     "output_type": "stream",
     "text": [
      "/home/ec2-user/anaconda3/envs/python3/lib/python3.6/site-packages/nltk/twitter/__init__.py:20: UserWarning: The twython library has not been installed. Some functionality from the twitter package will not be available.\n",
      "  warnings.warn(\"The twython library has not been installed. \"\n",
      "/home/ec2-user/anaconda3/envs/python3/lib/python3.6/site-packages/sklearn/ensemble/weight_boosting.py:29: DeprecationWarning: numpy.core.umath_tests is an internal NumPy module and should not be imported. It will be removed in a future NumPy release.\n",
      "  from numpy.core.umath_tests import inner1d\n"
     ]
    }
   ],
   "source": [
    "import pandas as pd\n",
    "import numpy as np\n",
    "import glob\n",
    "\n",
    "import nltk\n",
    "from nltk.sentiment.vader import SentimentIntensityAnalyzer\n",
    "from nltk.tokenize import word_tokenize\n",
    "\n",
    "from sklearn.feature_extraction.text import TfidfVectorizer\n",
    "from sklearn.metrics import roc_auc_score\n",
    "from sklearn.metrics.pairwise import cosine_similarity\n",
    "\n",
    "import matplotlib.pyplot as plt\n",
    "import seaborn as sns"
   ]
  },
  {
   "cell_type": "code",
   "execution_count": 2,
   "metadata": {},
   "outputs": [
    {
     "data": {
      "text/html": [
       "<div>\n",
       "<style scoped>\n",
       "    .dataframe tbody tr th:only-of-type {\n",
       "        vertical-align: middle;\n",
       "    }\n",
       "\n",
       "    .dataframe tbody tr th {\n",
       "        vertical-align: top;\n",
       "    }\n",
       "\n",
       "    .dataframe thead th {\n",
       "        text-align: right;\n",
       "    }\n",
       "</style>\n",
       "<table border=\"1\" class=\"dataframe\">\n",
       "  <thead>\n",
       "    <tr style=\"text-align: right;\">\n",
       "      <th></th>\n",
       "      <th>Unnamed: 0</th>\n",
       "      <th>id</th>\n",
       "      <th>age</th>\n",
       "    </tr>\n",
       "  </thead>\n",
       "  <tbody>\n",
       "    <tr>\n",
       "      <th>count</th>\n",
       "      <td>10000.000000</td>\n",
       "      <td>1.000000e+04</td>\n",
       "      <td>10000.000000</td>\n",
       "    </tr>\n",
       "    <tr>\n",
       "      <th>mean</th>\n",
       "      <td>188146.672800</td>\n",
       "      <td>2.360750e+06</td>\n",
       "      <td>24.130900</td>\n",
       "    </tr>\n",
       "    <tr>\n",
       "      <th>std</th>\n",
       "      <td>108352.699739</td>\n",
       "      <td>1.283130e+06</td>\n",
       "      <td>7.651197</td>\n",
       "    </tr>\n",
       "    <tr>\n",
       "      <th>min</th>\n",
       "      <td>74.000000</td>\n",
       "      <td>8.173000e+03</td>\n",
       "      <td>13.000000</td>\n",
       "    </tr>\n",
       "    <tr>\n",
       "      <th>25%</th>\n",
       "      <td>94432.750000</td>\n",
       "      <td>1.103575e+06</td>\n",
       "      <td>17.000000</td>\n",
       "    </tr>\n",
       "    <tr>\n",
       "      <th>50%</th>\n",
       "      <td>188383.500000</td>\n",
       "      <td>2.581386e+06</td>\n",
       "      <td>24.000000</td>\n",
       "    </tr>\n",
       "    <tr>\n",
       "      <th>75%</th>\n",
       "      <td>282350.750000</td>\n",
       "      <td>3.542478e+06</td>\n",
       "      <td>27.000000</td>\n",
       "    </tr>\n",
       "    <tr>\n",
       "      <th>max</th>\n",
       "      <td>375944.000000</td>\n",
       "      <td>4.334776e+06</td>\n",
       "      <td>48.000000</td>\n",
       "    </tr>\n",
       "  </tbody>\n",
       "</table>\n",
       "</div>"
      ],
      "text/plain": [
       "          Unnamed: 0            id           age\n",
       "count   10000.000000  1.000000e+04  10000.000000\n",
       "mean   188146.672800  2.360750e+06     24.130900\n",
       "std    108352.699739  1.283130e+06      7.651197\n",
       "min        74.000000  8.173000e+03     13.000000\n",
       "25%     94432.750000  1.103575e+06     17.000000\n",
       "50%    188383.500000  2.581386e+06     24.000000\n",
       "75%    282350.750000  3.542478e+06     27.000000\n",
       "max    375944.000000  4.334776e+06     48.000000"
      ]
     },
     "execution_count": 2,
     "metadata": {},
     "output_type": "execute_result"
    }
   ],
   "source": [
    "db = pd.read_csv('./sampleorig.csv')\n",
    "db.describe()"
   ]
  },
  {
   "cell_type": "code",
   "execution_count": 4,
   "metadata": {
    "scrolled": true
   },
   "outputs": [
    {
     "data": {
      "text/plain": [
       "indUnk                     3658\n",
       "Student                    2110\n",
       "Technology                  665\n",
       "Education                   499\n",
       "Arts                        457\n",
       "Communications-Media        320\n",
       "Non-Profit                  228\n",
       "Internet                    220\n",
       "Engineering                 198\n",
       "Law                         149\n",
       "Publishing                  107\n",
       "Government                  107\n",
       "Consulting                  102\n",
       "Science                      96\n",
       "Marketing                    93\n",
       "Fashion                      89\n",
       "Accounting                   89\n",
       "BusinessServices             61\n",
       "Telecommunications           61\n",
       "Advertising                  59\n",
       "Sports-Recreation            56\n",
       "Military                     55\n",
       "Biotech                      55\n",
       "Religion                     48\n",
       "Chemicals                    46\n",
       "Banking                      43\n",
       "Transportation               41\n",
       "Manufacturing                37\n",
       "Museums-Libraries            37\n",
       "LawEnforcement-Security      35\n",
       "Agriculture                  25\n",
       "InvestmentBanking            25\n",
       "HumanResources               24\n",
       "Tourism                      23\n",
       "Architecture                 19\n",
       "Construction                 17\n",
       "Automotive                   16\n",
       "RealEstate                   14\n",
       "Maritime                      9\n",
       "Environment                   7\n",
       "Name: topic, dtype: int64"
      ]
     },
     "execution_count": 4,
     "metadata": {},
     "output_type": "execute_result"
    }
   ],
   "source": [
    "db.topic.value_counts()"
   ]
  },
  {
   "cell_type": "code",
   "execution_count": 6,
   "metadata": {},
   "outputs": [
    {
     "data": {
      "text/html": [
       "<div>\n",
       "<style scoped>\n",
       "    .dataframe tbody tr th:only-of-type {\n",
       "        vertical-align: middle;\n",
       "    }\n",
       "\n",
       "    .dataframe tbody tr th {\n",
       "        vertical-align: top;\n",
       "    }\n",
       "\n",
       "    .dataframe thead th {\n",
       "        text-align: right;\n",
       "    }\n",
       "</style>\n",
       "<table border=\"1\" class=\"dataframe\">\n",
       "  <thead>\n",
       "    <tr style=\"text-align: right;\">\n",
       "      <th></th>\n",
       "      <th>gender</th>\n",
       "      <th>id</th>\n",
       "      <th>text</th>\n",
       "    </tr>\n",
       "  </thead>\n",
       "  <tbody>\n",
       "    <tr>\n",
       "      <th>0</th>\n",
       "      <td>female</td>\n",
       "      <td>28417</td>\n",
       "      <td>Perhaps so. But I hardly inferred ...</td>\n",
       "    </tr>\n",
       "    <tr>\n",
       "      <th>1</th>\n",
       "      <td>female</td>\n",
       "      <td>48923</td>\n",
       "      <td>Leigha is performing in a  ur...</td>\n",
       "    </tr>\n",
       "    <tr>\n",
       "      <th>2</th>\n",
       "      <td>female</td>\n",
       "      <td>66895</td>\n",
       "      <td>It's been a while since anything ...</td>\n",
       "    </tr>\n",
       "    <tr>\n",
       "      <th>3</th>\n",
       "      <td>female</td>\n",
       "      <td>78196</td>\n",
       "      <td>Something went terribly wrong...</td>\n",
       "    </tr>\n",
       "    <tr>\n",
       "      <th>4</th>\n",
       "      <td>female</td>\n",
       "      <td>96600</td>\n",
       "      <td>Something that I have been thinki...</td>\n",
       "    </tr>\n",
       "  </tbody>\n",
       "</table>\n",
       "</div>"
      ],
      "text/plain": [
       "   gender     id                                               text\n",
       "0  female  28417              Perhaps so. But I hardly inferred ...\n",
       "1  female  48923                   Leigha is performing in a  ur...\n",
       "2  female  66895               It's been a while since anything ...\n",
       "3  female  78196                   Something went terribly wrong...\n",
       "4  female  96600               Something that I have been thinki..."
      ]
     },
     "execution_count": 6,
     "metadata": {},
     "output_type": "execute_result"
    }
   ],
   "source": [
    "db = db[['gender','text','id']]\n",
    "\n",
    "dbm = db.groupby(['gender','id'])\\\n",
    "    .apply(lambda x: ' '.join(x.text))\\\n",
    "    .to_frame()\\\n",
    "    .rename(columns={0:'text'})\n",
    "dbm.reset_index(inplace=True)\n",
    "dbm.head()"
   ]
  },
  {
   "cell_type": "markdown",
   "metadata": {},
   "source": [
    "#### Analyzing the class balance"
   ]
  },
  {
   "cell_type": "code",
   "execution_count": 7,
   "metadata": {},
   "outputs": [
    {
     "data": {
      "text/plain": [
       "female    1872\n",
       "male      1840\n",
       "Name: gender, dtype: int64"
      ]
     },
     "execution_count": 7,
     "metadata": {},
     "output_type": "execute_result"
    }
   ],
   "source": [
    "dbm.gender.value_counts()"
   ]
  },
  {
   "cell_type": "markdown",
   "metadata": {},
   "source": [
    "#### Feature engineering"
   ]
  },
  {
   "cell_type": "code",
   "execution_count": 9,
   "metadata": {},
   "outputs": [
    {
     "data": {
      "text/html": [
       "<div>\n",
       "<style scoped>\n",
       "    .dataframe tbody tr th:only-of-type {\n",
       "        vertical-align: middle;\n",
       "    }\n",
       "\n",
       "    .dataframe tbody tr th {\n",
       "        vertical-align: top;\n",
       "    }\n",
       "\n",
       "    .dataframe thead th {\n",
       "        text-align: right;\n",
       "    }\n",
       "</style>\n",
       "<table border=\"1\" class=\"dataframe\">\n",
       "  <thead>\n",
       "    <tr style=\"text-align: right;\">\n",
       "      <th></th>\n",
       "      <th>gender</th>\n",
       "      <th>id</th>\n",
       "      <th>text</th>\n",
       "      <th>clen</th>\n",
       "      <th>numb</th>\n",
       "      <th>caps</th>\n",
       "      <th>wordlen</th>\n",
       "      <th>schar</th>\n",
       "      <th>unique_wlen_percent</th>\n",
       "      <th>clen_wlen</th>\n",
       "    </tr>\n",
       "  </thead>\n",
       "  <tbody>\n",
       "    <tr>\n",
       "      <th>0</th>\n",
       "      <td>female</td>\n",
       "      <td>28417</td>\n",
       "      <td>Perhaps so. But I hardly inferred that every l...</td>\n",
       "      <td>4817</td>\n",
       "      <td>0.003322</td>\n",
       "      <td>0.022628</td>\n",
       "      <td>848</td>\n",
       "      <td>0.047955</td>\n",
       "      <td>0.587264</td>\n",
       "      <td>5.680425</td>\n",
       "    </tr>\n",
       "    <tr>\n",
       "      <th>1</th>\n",
       "      <td>female</td>\n",
       "      <td>48923</td>\n",
       "      <td>Leigha is performing in a  urlLink one-woman s...</td>\n",
       "      <td>3489</td>\n",
       "      <td>0.000287</td>\n",
       "      <td>0.007165</td>\n",
       "      <td>613</td>\n",
       "      <td>0.050731</td>\n",
       "      <td>0.539967</td>\n",
       "      <td>5.691680</td>\n",
       "    </tr>\n",
       "    <tr>\n",
       "      <th>2</th>\n",
       "      <td>female</td>\n",
       "      <td>66895</td>\n",
       "      <td>It's been a while since anything new came up o...</td>\n",
       "      <td>451</td>\n",
       "      <td>0.004435</td>\n",
       "      <td>0.024390</td>\n",
       "      <td>84</td>\n",
       "      <td>0.035477</td>\n",
       "      <td>0.857143</td>\n",
       "      <td>5.369048</td>\n",
       "    </tr>\n",
       "    <tr>\n",
       "      <th>3</th>\n",
       "      <td>female</td>\n",
       "      <td>78196</td>\n",
       "      <td>Something went terribly wrong late last night....</td>\n",
       "      <td>25627</td>\n",
       "      <td>0.001327</td>\n",
       "      <td>0.048660</td>\n",
       "      <td>4636</td>\n",
       "      <td>0.068014</td>\n",
       "      <td>0.410699</td>\n",
       "      <td>5.527826</td>\n",
       "    </tr>\n",
       "    <tr>\n",
       "      <th>4</th>\n",
       "      <td>female</td>\n",
       "      <td>96600</td>\n",
       "      <td>Something that I have been thinking is that we...</td>\n",
       "      <td>1950</td>\n",
       "      <td>0.006154</td>\n",
       "      <td>0.019487</td>\n",
       "      <td>355</td>\n",
       "      <td>0.047692</td>\n",
       "      <td>0.577465</td>\n",
       "      <td>5.492958</td>\n",
       "    </tr>\n",
       "  </tbody>\n",
       "</table>\n",
       "</div>"
      ],
      "text/plain": [
       "   gender     id                                               text   clen  \\\n",
       "0  female  28417  Perhaps so. But I hardly inferred that every l...   4817   \n",
       "1  female  48923  Leigha is performing in a  urlLink one-woman s...   3489   \n",
       "2  female  66895  It's been a while since anything new came up o...    451   \n",
       "3  female  78196  Something went terribly wrong late last night....  25627   \n",
       "4  female  96600  Something that I have been thinking is that we...   1950   \n",
       "\n",
       "       numb      caps  wordlen     schar  unique_wlen_percent  clen_wlen  \n",
       "0  0.003322  0.022628      848  0.047955             0.587264   5.680425  \n",
       "1  0.000287  0.007165      613  0.050731             0.539967   5.691680  \n",
       "2  0.004435  0.024390       84  0.035477             0.857143   5.369048  \n",
       "3  0.001327  0.048660     4636  0.068014             0.410699   5.527826  \n",
       "4  0.006154  0.019487      355  0.047692             0.577465   5.492958  "
      ]
     },
     "execution_count": 9,
     "metadata": {},
     "output_type": "execute_result"
    }
   ],
   "source": [
    "dbm.text = dbm.text.str.strip()\n",
    "dbm['clen'] = dbm.text.str.len()\n",
    "dbm['numb'] = dbm.text.str.count(r'\\d')/dbm['clen']\n",
    "dbm['caps'] = dbm.text.str.count(r'[A-Z]')/dbm['clen']\n",
    "dbm['wordlen'] = dbm.text.apply(lambda x: len(str(x).split()))\n",
    "dbm['schar'] = (dbm.text.str.count(r'\\W')-dbm.text.str.count(r'\\W\\S'))/dbm['clen']\n",
    "dbm['unique_wlen_percent']=(dbm.text.apply(lambda x: len(set(str(x).split()))))/dbm['wordlen']\n",
    "dbm['clen_wlen']=dbm['clen']/dbm['wordlen']\n",
    "dbm.reset_index(inplace=True)\n",
    "dbm.drop(['index'], axis=1, inplace=True)\n",
    "dbm.head()"
   ]
  },
  {
   "cell_type": "markdown",
   "metadata": {},
   "source": [
    "### Analyzing the blog Sentiment - Using NLTK"
   ]
  },
  {
   "cell_type": "code",
   "execution_count": 11,
   "metadata": {},
   "outputs": [
    {
     "name": "stdout",
     "output_type": "stream",
     "text": [
      "[nltk_data] Downloading package vader_lexicon to\n",
      "[nltk_data]     /home/ec2-user/nltk_data...\n",
      "[nltk_data]   Package vader_lexicon is already up-to-date!\n"
     ]
    },
    {
     "data": {
      "text/html": [
       "<div>\n",
       "<style scoped>\n",
       "    .dataframe tbody tr th:only-of-type {\n",
       "        vertical-align: middle;\n",
       "    }\n",
       "\n",
       "    .dataframe tbody tr th {\n",
       "        vertical-align: top;\n",
       "    }\n",
       "\n",
       "    .dataframe thead th {\n",
       "        text-align: right;\n",
       "    }\n",
       "</style>\n",
       "<table border=\"1\" class=\"dataframe\">\n",
       "  <thead>\n",
       "    <tr style=\"text-align: right;\">\n",
       "      <th></th>\n",
       "      <th>neg</th>\n",
       "      <th>neu</th>\n",
       "      <th>pos</th>\n",
       "      <th>compound</th>\n",
       "    </tr>\n",
       "  </thead>\n",
       "  <tbody>\n",
       "    <tr>\n",
       "      <th>0</th>\n",
       "      <td>0.103</td>\n",
       "      <td>0.747</td>\n",
       "      <td>0.150</td>\n",
       "      <td>0.9940</td>\n",
       "    </tr>\n",
       "    <tr>\n",
       "      <th>1</th>\n",
       "      <td>0.042</td>\n",
       "      <td>0.840</td>\n",
       "      <td>0.118</td>\n",
       "      <td>0.9958</td>\n",
       "    </tr>\n",
       "    <tr>\n",
       "      <th>2</th>\n",
       "      <td>0.000</td>\n",
       "      <td>0.909</td>\n",
       "      <td>0.091</td>\n",
       "      <td>0.7430</td>\n",
       "    </tr>\n",
       "    <tr>\n",
       "      <th>3</th>\n",
       "      <td>0.176</td>\n",
       "      <td>0.699</td>\n",
       "      <td>0.125</td>\n",
       "      <td>-0.9999</td>\n",
       "    </tr>\n",
       "    <tr>\n",
       "      <th>4</th>\n",
       "      <td>0.022</td>\n",
       "      <td>0.858</td>\n",
       "      <td>0.120</td>\n",
       "      <td>0.9742</td>\n",
       "    </tr>\n",
       "  </tbody>\n",
       "</table>\n",
       "</div>"
      ],
      "text/plain": [
       "     neg    neu    pos  compound\n",
       "0  0.103  0.747  0.150    0.9940\n",
       "1  0.042  0.840  0.118    0.9958\n",
       "2  0.000  0.909  0.091    0.7430\n",
       "3  0.176  0.699  0.125   -0.9999\n",
       "4  0.022  0.858  0.120    0.9742"
      ]
     },
     "execution_count": 11,
     "metadata": {},
     "output_type": "execute_result"
    }
   ],
   "source": [
    "import nltk\n",
    "nltk.download('vader_lexicon')\n",
    "\n",
    "#Sentiment analyzer\n",
    "sentiment_val = dbm.text.apply(lambda x: SentimentIntensityAnalyzer().polarity_scores(x))\n",
    "\n",
    "pol_values=[]\n",
    "for i in sentiment_val:\n",
    "    pol_val = list(i.values())\n",
    "    pol_values.append(pol_val)\n",
    "\n",
    "sent = pd.DataFrame(pol_values)\n",
    "sent.rename(columns = {0:'neg',1:'neu',2:'pos',3:'compound'}, inplace=True)\n",
    "sent.head()"
   ]
  },
  {
   "cell_type": "code",
   "execution_count": 12,
   "metadata": {},
   "outputs": [],
   "source": [
    "dbm = pd.merge(dbm,sent,how='inner',left_index=True,right_index=True)\n",
    "dbm_male = dbm.loc[dbm['gender']=='male'].copy()\n",
    "dbm_female = dbm.loc[dbm['gender']=='female'].copy()"
   ]
  },
  {
   "cell_type": "code",
   "execution_count": 13,
   "metadata": {},
   "outputs": [
    {
     "name": "stderr",
     "output_type": "stream",
     "text": [
      "/home/ec2-user/anaconda3/envs/python3/lib/python3.6/site-packages/scipy/stats/stats.py:1713: FutureWarning: Using a non-tuple sequence for multidimensional indexing is deprecated; use `arr[tuple(seq)]` instead of `arr[seq]`. In the future this will be interpreted as an array index, `arr[np.array(seq)]`, which will result either in an error or a different result.\n",
      "  return np.add.reduce(sorted[indexer] * weights, axis=axis) / sumval\n",
      "/home/ec2-user/anaconda3/envs/python3/lib/python3.6/site-packages/matplotlib/axes/_axes.py:6462: UserWarning: The 'normed' kwarg is deprecated, and has been replaced by the 'density' kwarg.\n",
      "  warnings.warn(\"The 'normed' kwarg is deprecated, and has been \"\n",
      "/home/ec2-user/anaconda3/envs/python3/lib/python3.6/site-packages/matplotlib/axes/_axes.py:6462: UserWarning: The 'normed' kwarg is deprecated, and has been replaced by the 'density' kwarg.\n",
      "  warnings.warn(\"The 'normed' kwarg is deprecated, and has been \"\n"
     ]
    },
    {
     "data": {
      "image/png": "[encoded data removed]",
      "text/plain": [
       "<Figure size 864x504 with 1 Axes>"
      ]
     },
     "metadata": {},
     "output_type": "display_data"
    }
   ],
   "source": [
    "sns.set(style=\"darkgrid\")\n",
    "fig, ax = plt.subplots()\n",
    "fig.set_size_inches(12,7)\n",
    "sns.distplot( dbm_male.neg , color=\"skyblue\", label=\"Male\")\n",
    "sns.distplot( dbm_female.neg , color=\"red\", label=\"Female\")\n",
    "plt.title(\"Negative sentiment score distribution by bloggers\")\n",
    "plt.xlabel(\"Negative sentiment score\")\n",
    "plt.ylabel(\"Number of bloggers\")\n",
    "plt.legend()\n",
    "plt.show()"
   ]
  },
  {
   "cell_type": "code",
   "execution_count": 14,
   "metadata": {},
   "outputs": [
    {
     "name": "stderr",
     "output_type": "stream",
     "text": [
      "/home/ec2-user/anaconda3/envs/python3/lib/python3.6/site-packages/scipy/stats/stats.py:1713: FutureWarning: Using a non-tuple sequence for multidimensional indexing is deprecated; use `arr[tuple(seq)]` instead of `arr[seq]`. In the future this will be interpreted as an array index, `arr[np.array(seq)]`, which will result either in an error or a different result.\n",
      "  return np.add.reduce(sorted[indexer] * weights, axis=axis) / sumval\n",
      "/home/ec2-user/anaconda3/envs/python3/lib/python3.6/site-packages/matplotlib/axes/_axes.py:6462: UserWarning: The 'normed' kwarg is deprecated, and has been replaced by the 'density' kwarg.\n",
      "  warnings.warn(\"The 'normed' kwarg is deprecated, and has been \"\n",
      "/home/ec2-user/anaconda3/envs/python3/lib/python3.6/site-packages/matplotlib/axes/_axes.py:6462: UserWarning: The 'normed' kwarg is deprecated, and has been replaced by the 'density' kwarg.\n",
      "  warnings.warn(\"The 'normed' kwarg is deprecated, and has been \"\n"
     ]
    },
    {
     "data": {
      "image/png": "[encoded data removed]",
      "text/plain": [
       "<Figure size 864x504 with 1 Axes>"
      ]
     },
     "metadata": {},
     "output_type": "display_data"
    }
   ],
   "source": [
    "sns.set(style=\"darkgrid\")\n",
    "fig, ax = plt.subplots()\n",
    "fig.set_size_inches(12,7)\n",
    "sns.distplot( dbm_male.neu , color=\"skyblue\", label=\"Male\")\n",
    "sns.distplot( dbm_female.neu , color=\"red\", label=\"Female\")\n",
    "\n",
    "plt.title(\"Neutral sentiment score distribution by bloggers\")\n",
    "plt.xlabel(\"Neutral sentiment score\")\n",
    "plt.ylabel(\"Number of bloggers\")\n",
    "plt.legend()\n",
    "plt.show()"
   ]
  },
  {
   "cell_type": "code",
   "execution_count": 15,
   "metadata": {},
   "outputs": [
    {
     "name": "stderr",
     "output_type": "stream",
     "text": [
      "/home/ec2-user/anaconda3/envs/python3/lib/python3.6/site-packages/scipy/stats/stats.py:1713: FutureWarning: Using a non-tuple sequence for multidimensional indexing is deprecated; use `arr[tuple(seq)]` instead of `arr[seq]`. In the future this will be interpreted as an array index, `arr[np.array(seq)]`, which will result either in an error or a different result.\n",
      "  return np.add.reduce(sorted[indexer] * weights, axis=axis) / sumval\n",
      "/home/ec2-user/anaconda3/envs/python3/lib/python3.6/site-packages/matplotlib/axes/_axes.py:6462: UserWarning: The 'normed' kwarg is deprecated, and has been replaced by the 'density' kwarg.\n",
      "  warnings.warn(\"The 'normed' kwarg is deprecated, and has been \"\n",
      "/home/ec2-user/anaconda3/envs/python3/lib/python3.6/site-packages/matplotlib/axes/_axes.py:6462: UserWarning: The 'normed' kwarg is deprecated, and has been replaced by the 'density' kwarg.\n",
      "  warnings.warn(\"The 'normed' kwarg is deprecated, and has been \"\n"
     ]
    },
    {
     "data": {
      "image/png": "[encoded data removed]",
      "text/plain": [
       "<Figure size 864x504 with 1 Axes>"
      ]
     },
     "metadata": {},
     "output_type": "display_data"
    }
   ],
   "source": [
    "sns.set(style=\"darkgrid\")\n",
    "fig, ax = plt.subplots()\n",
    "fig.set_size_inches(12,7)\n",
    "sns.distplot( dbm_male.pos , color=\"skyblue\", label=\"Male\")\n",
    "sns.distplot( dbm_female.pos , color=\"red\", label=\"Female\")\n",
    "\n",
    "plt.title(\"Positive sentiment score distribution by bloggers\")\n",
    "plt.xlabel(\"Positive sentiment score\")\n",
    "plt.ylabel(\"Number of bloggers\")\n",
    "plt.legend()\n",
    "plt.show()"
   ]
  },
  {
   "cell_type": "markdown",
   "metadata": {},
   "source": [
    "#### Analyzing the sentiment scores, we can observe that they are not highly differentiated across genders"
   ]
  },
  {
   "cell_type": "code",
   "execution_count": null,
   "metadata": {},
   "outputs": [],
   "source": [
    "#Cleaning\n",
    "dbm.text = dbm.text.str.lower()\n",
    "dbm.text = dbm.text.str.replace('[^a-zA-Z]',\" \")\n",
    "dbm.text = dbm.text.str.replace('urllink',\" \")\n",
    "dbm.text = dbm.text.str.replace('nbsp',\" \")\n",
    "dbm.text = dbm.text.str.replace(r'\\n',' ')\n",
    "dbm.text = dbm.text.str.replace(r'\\s+',' ')\n",
    "dbm.text = dbm.text.str.replace('([ ]{2,})',' ')\n",
    "dbm = dbm[~dbm.text.str.match(r'^\\s*$')]\n",
    "dbm = dbm[dbm.text.apply(lambda x:len(x))>10]"
   ]
  },
  {
   "cell_type": "code",
   "execution_count": 17,
   "metadata": {},
   "outputs": [],
   "source": [
    "from sklearn.preprocessing import LabelEncoder, OneHotEncoder\n",
    "labelencoder_X_1 = LabelEncoder()\n",
    "dbm['gender_ohe'] = labelencoder_X_1.fit_transform(dbm.loc[:,'gender'])"
   ]
  },
  {
   "cell_type": "code",
   "execution_count": null,
   "metadata": {},
   "outputs": [],
   "source": [
    "vect = TfidfVectorizer(max_df=0.5,min_df=0.005,lowercase=True,stop_words='english',norm='l1',ngram_range=(1,2),max_features=3000).fit(dbm.text)\n",
    "tfidf = vect.transform(dbm.text)\n",
    "cosine = cosine_similarity(tfidf)\n",
    "cosine = pd.DataFrame(cosine)"
   ]
  },
  {
   "cell_type": "markdown",
   "metadata": {},
   "source": [
    "### Interactive Visualization"
   ]
  },
  {
   "cell_type": "markdown",
   "metadata": {},
   "source": [
    "#### Creating a function for finding gender of k-nearest neighbours based on Cosine Similarity"
   ]
  },
  {
   "cell_type": "code",
   "execution_count": 84,
   "metadata": {},
   "outputs": [],
   "source": [
    "def similiarity_user(userid, k):\n",
    "    rno = dbm[dbm.id==userid].index.values\n",
    "    cosine_topk = pd.DataFrame({n: cosine.T[col].nlargest(k+1).index.tolist() for n, col in enumerate(cosine.T)}).T\n",
    "    print(\"Gender of the user is : {}\".format(dbm.loc[dbm.id==userid,'gender'][1]))\n",
    "    for i in range(k):\n",
    "        print(\"Gender of {}-nearest user is : {}\".format(i+1,dbm.loc[cosine_topk.loc[rno][i+1],'gender'].values))"
   ]
  },
  {
   "cell_type": "code",
   "execution_count": 85,
   "metadata": {
    "scrolled": true
   },
   "outputs": [
    {
     "name": "stdout",
     "output_type": "stream",
     "text": [
      "Gender of the user is : female\n",
      "Gender of 1-nearest user is : ['male']\n",
      "Gender of 2-nearest user is : ['male']\n",
      "Gender of 3-nearest user is : ['female']\n",
      "Gender of 4-nearest user is : ['female']\n",
      "Gender of 5-nearest user is : ['female']\n"
     ]
    }
   ],
   "source": [
    "userid = 48923\n",
    "k_nearest_neighbours = 5\n",
    "similiarity_user(userid,k_nearest_neighbours)"
   ]
  }
 ],
 "metadata": {
  "kernelspec": {
   "display_name": "conda_python3",
   "language": "python",
   "name": "conda_python3"
  },
  "language_info": {
   "codemirror_mode": {
    "name": "ipython",
    "version": 3
   },
   "file_extension": ".py",
   "mimetype": "text/x-python",
   "name": "python",
   "nbconvert_exporter": "python",
   "pygments_lexer": "ipython3",
   "version": "3.6.5"
  }
 },
 "nbformat": 4,
 "nbformat_minor": 2
}
